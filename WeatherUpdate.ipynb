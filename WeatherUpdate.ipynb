{
 "cells": [
  {
   "cell_type": "code",
   "execution_count": 17,
   "id": "417d7cf6",
   "metadata": {},
   "outputs": [],
   "source": [
    "import requests\n",
    "import os\n",
    "from datetime import datetime"
   ]
  },
  {
   "cell_type": "code",
   "execution_count": 18,
   "id": "3fb5ba4f",
   "metadata": {},
   "outputs": [],
   "source": [
    "x=open(\"Weather_report.txt\", 'a')"
   ]
  },
  {
   "cell_type": "code",
   "execution_count": 19,
   "id": "50c76387",
   "metadata": {},
   "outputs": [
    {
     "name": "stdout",
     "output_type": "stream",
     "text": [
      "Enter the city name: Goa\n"
     ]
    }
   ],
   "source": [
    "api_key='f544ddb3c098351314b63d4b68b59a43'\n",
    "lctn=input(\"Enter the city name: \")\n",
    "\n",
    "complete_api_link=\"https://api.openweathermap.org/data/2.5/weather?q=\"+lctn+\"&appid=\"+api_key\n",
    "api_link=requests.get(complete_api_link)\n",
    "api_data=api_link.json()\n",
    "\n",
    "#Variables containing display data\n",
    "temp_city=((api_data['main']['temp']) -273.15)\n",
    "wthr_desc=api_data['weather'][0]['description']\n",
    "hmdt=api_data['main']['humidity']\n",
    "wnd_spd=api_data['wind']['speed']\n",
    "date_time=datetime.now().strftime(\"%d %b %Y | %I:%M:%S %p\")\n",
    "\n",
    "print(\"_\"*58, file=x)\n",
    "print(\"_\"*58, file=x)\n",
    "print(\"Weather Stats for - {} || {}\".format(lctn.upper(), date_time), file=x)\n",
    "\n",
    "print(\"_\"*58, file=x)\n",
    "print(\"_\"*58, file=x)\n",
    "print(\"Current temperature is: {:.2f} def C\".format(temp_city), file=x)\n",
    "print(\"Cureent weather desc  :\",wthr_desc, file=x)\n",
    "print(\"Current humidity      :\",hmdt, '%', file=x)\n",
    "print(\"Current wind speed    :\",wnd_spd, 'kmph', file=x)\n",
    "print(\"_\"*58, file=x)\n",
    "print(\"_\"*58, file=x)\n",
    "\n",
    "x.close()"
   ]
  },
  {
   "cell_type": "code",
   "execution_count": 12,
   "id": "b32ce67e",
   "metadata": {},
   "outputs": [],
   "source": []
  },
  {
   "cell_type": "code",
   "execution_count": 13,
   "id": "5950a21c",
   "metadata": {},
   "outputs": [],
   "source": []
  },
  {
   "cell_type": "code",
   "execution_count": null,
   "id": "3cb831e4",
   "metadata": {},
   "outputs": [],
   "source": []
  },
  {
   "cell_type": "code",
   "execution_count": null,
   "id": "a203f0ab",
   "metadata": {},
   "outputs": [],
   "source": []
  },
  {
   "cell_type": "code",
   "execution_count": null,
   "id": "936d898d",
   "metadata": {},
   "outputs": [],
   "source": []
  }
 ],
 "metadata": {
  "kernelspec": {
   "display_name": "Python 3",
   "language": "python",
   "name": "python3"
  },
  "language_info": {
   "codemirror_mode": {
    "name": "ipython",
    "version": 3
   },
   "file_extension": ".py",
   "mimetype": "text/x-python",
   "name": "python",
   "nbconvert_exporter": "python",
   "pygments_lexer": "ipython3",
   "version": "3.8.8"
  }
 },
 "nbformat": 4,
 "nbformat_minor": 5
}
